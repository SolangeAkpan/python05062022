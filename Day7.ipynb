{
 "cells": [
  {
   "cell_type": "markdown",
   "metadata": {},
   "source": [
    "# Anonymous Function\n",
    " lambda"
   ]
  },
  {
   "cell_type": "code",
   "execution_count": 2,
   "metadata": {},
   "outputs": [
    {
     "data": {
      "text/plain": [
       "3125"
      ]
     },
     "execution_count": 2,
     "metadata": {},
     "output_type": "execute_result"
    }
   ],
   "source": [
    "(lambda x: x**x)(5)"
   ]
  },
  {
   "cell_type": "markdown",
   "metadata": {},
   "source": [
    "# Exercise1\n",
    "# Wrrite a lambda function to check if a given number is an evennumber or odd number\n"
   ]
  },
  {
   "cell_type": "code",
   "execution_count": 14,
   "metadata": {},
   "outputs": [
    {
     "name": "stdout",
     "output_type": "stream",
     "text": [
      "Please provide a number431\n"
     ]
    },
    {
     "data": {
      "text/plain": [
       "'431 is an odd number'"
      ]
     },
     "execution_count": 14,
     "metadata": {},
     "output_type": "execute_result"
    }
   ],
   "source": [
    "(lambda num:f'{num} is an even number' if num % 2 == 0 else f'{num} is an odd number')(int(input('Please provide a number')))"
   ]
  },
  {
   "cell_type": "markdown",
   "metadata": {},
   "source": [
    "# Exercise2 \n",
    "# Write a lambda function to check if a given password starts with an uppercase letter and ends with any special characters"
   ]
  },
  {
   "cell_type": "code",
   "execution_count": 17,
   "metadata": {},
   "outputs": [
    {
     "name": "stdout",
     "output_type": "stream",
     "text": [
      "Please enter your passwordMacy@@\n"
     ]
    },
    {
     "data": {
      "text/plain": [
       "'Macy@@ starts with upper case and ends with a special character'"
      ]
     },
     "execution_count": 17,
     "metadata": {},
     "output_type": "execute_result"
    }
   ],
   "source": [
    "(lambda password: f'{password} starts with upper case and ends with a special character' if password[0] == password.upper() and passowrd[-1] == '#' or password[-1]== '@' else False)(input('Please enter your password'))\n",
    " "
   ]
  },
  {
   "cell_type": "markdown",
   "metadata": {},
   "source": [
    "# Map and filter"
   ]
  },
  {
   "cell_type": "code",
   "execution_count": 25,
   "metadata": {},
   "outputs": [
    {
     "name": "stdout",
     "output_type": "stream",
     "text": [
      "['BINGO', 'CAPPY', 'WISKY', 'BANTY', 'HENRY']\n"
     ]
    }
   ],
   "source": [
    "dogs = ['bingo','cappy','wisky','banty','henry']\n",
    "update_list = list(map(lambda x: str.upper(x), dogs))\n",
    "print(update_list)"
   ]
  },
  {
   "cell_type": "code",
   "execution_count": 34,
   "metadata": {},
   "outputs": [
    {
     "name": "stdout",
     "output_type": "stream",
     "text": [
      "[60, 51, 55, 47, 56, 50, 46, 56, 48, 69, 59, 64, 52, 56, 64, 50, 63, 65, 60, 49, 65, 58, 63, 67, 57, 68, 55, 54, 65, 62, 51, 51, 65, 45, 46, 55, 61, 59, 47, 56, 51, 66, 51, 59, 61, 53, 45, 70, 61, 47]\n",
      "[7.745966692414834, 7.14142842854285, 7.416198487095663, 6.855654600401044, 7.483314773547883, 7.0710678118654755, 6.782329983125268, 7.483314773547883, 6.928203230275509, 8.306623862918075, 7.681145747868608, 8.0, 7.211102550927978, 7.483314773547883, 8.0, 7.0710678118654755, 7.937253933193772, 8.06225774829855, 7.745966692414834, 7.0, 8.06225774829855, 7.615773105863909, 7.937253933193772, 8.18535277187245, 7.54983443527075, 8.246211251235321, 7.416198487095663, 7.3484692283495345, 8.06225774829855, 7.874007874011811, 7.14142842854285, 7.14142842854285, 8.06225774829855, 6.708203932499369, 6.782329983125268, 7.416198487095663, 7.810249675906654, 7.681145747868608, 6.855654600401044, 7.483314773547883, 7.14142842854285, 8.12403840463596, 7.14142842854285, 7.681145747868608, 7.810249675906654, 7.280109889280518, 6.708203932499369, 8.366600265340756, 7.810249675906654, 6.855654600401044]\n",
      "[51, 55, 47, 50, 46, 48, 52, 50, 49, 55, 54, 51, 51, 45, 46, 55, 47, 51, 51, 53, 45, 47]\n"
     ]
    }
   ],
   "source": [
    "import random as rn\n",
    "import math as m\n",
    "numbers = []\n",
    "counter = 1\n",
    "while counter <= 50:\n",
    "    num = rn.randint(45,70)\n",
    "    numbers.append(num)\n",
    "    counter += 1\n",
    "print(numbers)    \n",
    "numsqrt = list(map(lambda x:m.sqrt(x),numbers))\n",
    "numfilter = list(filter(lambda x: x <= 55, numbers))\n",
    "print(numsqrt)\n",
    "print(numfilter)"
   ]
  },
  {
   "cell_type": "code",
   "execution_count": null,
   "metadata": {},
   "outputs": [],
   "source": []
  }
 ],
 "metadata": {
  "kernelspec": {
   "display_name": "Python 3 (ipykernel)",
   "language": "python",
   "name": "python3"
  },
  "language_info": {
   "codemirror_mode": {
    "name": "ipython",
    "version": 3
   },
   "file_extension": ".py",
   "mimetype": "text/x-python",
   "name": "python",
   "nbconvert_exporter": "python",
   "pygments_lexer": "ipython3",
   "version": "3.9.12"
  }
 },
 "nbformat": 4,
 "nbformat_minor": 4
}

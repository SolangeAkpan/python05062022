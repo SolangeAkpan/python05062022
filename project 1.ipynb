{
 "cells": [
  {
   "cell_type": "code",
   "execution_count": 2,
   "id": "5ad86e3b",
   "metadata": {},
   "outputs": [],
   "source": [
    "import random as rn"
   ]
  },
  {
   "cell_type": "code",
   "execution_count": 4,
   "id": "06b1fb36",
   "metadata": {},
   "outputs": [],
   "source": [
    "### defining the variables\n",
    "\n",
    "North =[' Kaduna','Kano','Kastina','Niger','Kogi','Borono','Plateau','Abuja','Nassarawa','Gombe','Yobe','Abuja','Bauchi','FCT']\n",
    "South =['Delta','Akwa -Ibom','Crossriver','Bayelsa', 'River']\n",
    "West =['Lagos','Ekiti','Ondo','Edo','Oyo','Osun',]\n",
    "East =['Imo','Anambra','Abia','Enugu','Ebonyi']\n",
    "\n",
    "\n"
   ]
  },
  {
   "cell_type": "code",
   "execution_count": 11,
   "id": "6f89ae4f",
   "metadata": {},
   "outputs": [
    {
     "name": "stdout",
     "output_type": "stream",
     "text": [
      "please enter your full name: UDUAK NONSO\n",
      "fullname:UDUAK NONSO\n",
      "How old are you :20\n",
      "20 years\n",
      "What is your gender? M or F :F\n",
      " Gender:F\n",
      "please enter your state of origin:ANAMBRA\n",
      "state_of_origin :ANAMBRA\n",
      "please enter the Name of your university:UNIVERSITY OF CALABAR\n",
      "name_of_university: UNIVERSITY OF CALABAR\n",
      "please enter the geographical area of your school:SOUTH\n",
      "school geographical location :SOUTH\n"
     ]
    }
   ],
   "source": [
    "### collection of info from user\n",
    "\n",
    "student_name =input('please enter your full name: ')\n",
    "print(f'fullname:{student_name}')\n",
    "student_age =int(input('How old are you :'))\n",
    "print(f'{student_age} years')\n",
    "student_sex =input('What is your gender? M or F :')\n",
    "print(f' Gender:{student_sex}')\n",
    "state_of_orgin =input('please enter your state of origin:')\n",
    "print(f'state_of_origin :{state_of_orgin}') \n",
    "school_name =input('please enter the Name of your university:')\n",
    "print(f'name_of_university: {school_name}')\n",
    "school_geo_location =input('please enter the geographical area of your school:')\n",
    "print(f'school geographical location :{school_geo_location}')\n",
    "\n",
    "\n",
    "\n",
    "  "
   ]
  },
  {
   "cell_type": "markdown",
   "id": "25b908ac",
   "metadata": {},
   "source": [
    "#  Conditions  "
   ]
  },
  {
   "cell_type": "code",
   "execution_count": 12,
   "id": "309c49aa",
   "metadata": {},
   "outputs": [
    {
     "ename": "NameError",
     "evalue": "name 'East' is not defined",
     "output_type": "error",
     "traceback": [
      "\u001b[1;31m---------------------------------------------------------------------------\u001b[0m",
      "\u001b[1;31mNameError\u001b[0m                                 Traceback (most recent call last)",
      "Input \u001b[1;32mIn [12]\u001b[0m, in \u001b[0;36m<cell line: 1>\u001b[1;34m()\u001b[0m\n\u001b[1;32m----> 1\u001b[0m \u001b[38;5;28;01mif\u001b[39;00m \u001b[38;5;129;01mnot\u001b[39;00m \u001b[38;5;28;43many\u001b[39;49m\u001b[43m(\u001b[49m\u001b[43mchar\u001b[49m\u001b[43m \u001b[49m\u001b[38;5;129;43;01min\u001b[39;49;00m\u001b[43m(\u001b[49m\u001b[43mEast\u001b[49m\u001b[43m,\u001b[49m\u001b[43mWest\u001b[49m\u001b[43m,\u001b[49m\u001b[43mSouth\u001b[49m\u001b[43m)\u001b[49m\u001b[38;5;28;43;01mfor\u001b[39;49;00m\u001b[43m \u001b[49m\u001b[43mchar\u001b[49m\u001b[43m \u001b[49m\u001b[38;5;129;43;01min\u001b[39;49;00m\u001b[43m \u001b[49m\u001b[43mschool_geo_location\u001b[49m\u001b[43m)\u001b[49m:\n\u001b[0;32m      2\u001b[0m     n\u001b[38;5;241m=\u001b[39m(rn\u001b[38;5;241m.\u001b[39mchioce(East),rn\u001b[38;5;241m.\u001b[39mchoice(West),rn\u001b[38;5;241m.\u001b[39mchoice(South))\n\u001b[0;32m      3\u001b[0m     \u001b[38;5;28mprint\u001b[39m(\u001b[38;5;124mf\u001b[39m\u001b[38;5;124m'\u001b[39m\u001b[38;5;124myou are posted to serve in the (rn.choice(n))\u001b[39m\u001b[38;5;124m'\u001b[39m)\n",
      "Input \u001b[1;32mIn [12]\u001b[0m, in \u001b[0;36m<genexpr>\u001b[1;34m(.0)\u001b[0m\n\u001b[1;32m----> 1\u001b[0m \u001b[38;5;28;01mif\u001b[39;00m \u001b[38;5;129;01mnot\u001b[39;00m \u001b[38;5;28many\u001b[39m(char \u001b[38;5;129;01min\u001b[39;00m(\u001b[43mEast\u001b[49m,West,South)\u001b[38;5;28;01mfor\u001b[39;00m char \u001b[38;5;129;01min\u001b[39;00m school_geo_location):\n\u001b[0;32m      2\u001b[0m     n\u001b[38;5;241m=\u001b[39m(rn\u001b[38;5;241m.\u001b[39mchioce(East),rn\u001b[38;5;241m.\u001b[39mchoice(West),rn\u001b[38;5;241m.\u001b[39mchoice(South))\n\u001b[0;32m      3\u001b[0m     \u001b[38;5;28mprint\u001b[39m(\u001b[38;5;124mf\u001b[39m\u001b[38;5;124m'\u001b[39m\u001b[38;5;124myou are posted to serve in the (rn.choice(n))\u001b[39m\u001b[38;5;124m'\u001b[39m)\n",
      "\u001b[1;31mNameError\u001b[0m: name 'East' is not defined"
     ]
    }
   ],
   "source": [
    "if not any(char in(East,West,South)for char in school_geo_location):\n",
    "    n=(rn.chioce(East),rn.choice(West),rn.choice(South))\n",
    "    print(f'you are posted to serve in the (rn.choice(n))')\n",
    "    \n",
    "else:\n",
    "    print( f'you are posted to serve in(rn.choice(North))')\n",
    "    "
   ]
  },
  {
   "cell_type": "code",
   "execution_count": null,
   "id": "cdfb5c5d",
   "metadata": {},
   "outputs": [],
   "source": []
  }
 ],
 "metadata": {
  "kernelspec": {
   "display_name": "Python 3 (ipykernel)",
   "language": "python",
   "name": "python3"
  },
  "language_info": {
   "codemirror_mode": {
    "name": "ipython",
    "version": 3
   },
   "file_extension": ".py",
   "mimetype": "text/x-python",
   "name": "python",
   "nbconvert_exporter": "python",
   "pygments_lexer": "ipython3",
   "version": "3.9.12"
  }
 },
 "nbformat": 4,
 "nbformat_minor": 5
}

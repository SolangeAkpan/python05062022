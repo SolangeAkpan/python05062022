{
 "cells": [
  {
   "cell_type": "code",
   "execution_count": 2,
   "id": "cab98847",
   "metadata": {},
   "outputs": [
    {
     "name": "stdout",
     "output_type": "stream",
     "text": [
      "please provide the first number:23\n",
      "please provide the second number:34\n",
      "57\n",
      "19895113660064588580108197261066338165074766609\n",
      "End of program\n"
     ]
    }
   ],
   "source": [
    " try:\n",
    "    num1=int(input('please provide the first number:'))\n",
    "    num2=int(input('please provide the second number:'))\n",
    "    print(num1 +num2)\n",
    "except valueerror:\n",
    "    print('Wrong value provided')\n",
    "except AttributeError:\n",
    "    print('Wrong functionon integer attribute')\n",
    "except:\n",
    "    print('You have encounter one or more errors')\n",
    "else:\n",
    "    print(num1** num2)\n",
    "finally: print('End of program')\n",
    "    "
   ]
  },
  {
   "cell_type": "markdown",
   "id": "b2cf7c57",
   "metadata": {},
   "source": [
    "# Exercise"
   ]
  },
  {
   "cell_type": "code",
   "execution_count": 4,
   "id": "194f8030",
   "metadata": {},
   "outputs": [
    {
     "ename": "SyntaxError",
     "evalue": "invalid syntax (3762308291.py, line 1)",
     "output_type": "error",
     "traceback": [
      "\u001b[1;36m  Input \u001b[1;32mIn [4]\u001b[1;36m\u001b[0m\n\u001b[1;33m    using error handling write a simple calculator given the user the liberty to\u001b[0m\n\u001b[1;37m          ^\u001b[0m\n\u001b[1;31mSyntaxError\u001b[0m\u001b[1;31m:\u001b[0m invalid syntax\n"
     ]
    }
   ],
   "source": [
    "using error handling write a simple calculator given the user the liberty to\n",
    "choose which operation they want to perform handling the following errors\n",
    "TypeError,ValueError,AttributeError,EOFError,ZeroDivisionError and all other errors\n",
    "under the else block write a condition to check if both numbers are even number or odd number\n",
    "or one is even and the other is odd\n",
    "under finally print a statementthat says \"HEY IT's INTRESTING TO BE A PROGRAMMER!!!\""
   ]
  },
  {
   "cell_type": "code",
   "execution_count": null,
   "id": "18f0a36c",
   "metadata": {},
   "outputs": [],
   "source": [
    " try:\n",
    "    num1=int(input('please provide the first number:'))\n",
    "    num2=int(input('please provide the second number:'))\n",
    "    choice=input('''Choose f your operation\n",
    "    +:Addition\n",
    "    -:Subtraction\n",
    "    /:Division\n",
    "    *:Multiplication \n",
    "    ''')\n",
    "    if choice=='+'\n",
    "          print(f'{num1}+{num2}={num1+num2}')\n",
    "    elif choice=='-'\n",
    "          print(f'{num1}-{num2}={num1 -num2}')\n",
    "    elif choice=='/'\n",
    "          print(f'{num1}/{num2}={num1 /num2}')\n",
    "    elif choice=='*'\n",
    "          print(f'{num1}*{num2}={num1 *num2}')\n",
    "excpect ValueError:\n",
    "    print('Wrong Value provided')\n",
    "excpect TypeError:\n",
    "    print('Invalid Data type operation')\n",
    "excpect AttributeError:\n",
    "    print('Wrong function on interger attribute')\n",
    "excpect EOFError:\n",
    "    print('One of the bracket is missing')\n",
    "excpect ZeroDivisionError:\n",
    "    print('A number cannot be divisible by Zero')\n",
    "excpect:\n",
    "    print('You have encountered one or more errors')\n",
    "else:\n",
    "    if num1%2==0 and num2% 2==0:\n",
    "        print('Both the value of num1 and num2 are even number')\n",
    "    elif num1% 2!=0 and num2% 2==0:\n",
    "        print('Both the value of num1 and num2 are odd number')\n",
    "    elif num1 % 2==0 ! and num2% 2!=0:\n",
    "        print('The value of num1 is an odd number while the vaiue of numb2 is an Even number')\n",
    "    elif num1%2 ==0 and num2 % 2 !=0:\n",
    "        print('The value of num1 is an odd number while the vaiue of numb2 is an Even number')\n",
    "finally:\n",
    "    print(\"HEY ITS INTRESTING TO BE A PROGRAMMER END OF PROGRAMMER \")\n",
    "\n",
    "\n",
    "\n",
    "    \n",
    "    \n",
    "    \n",
    "    \n",
    "    \n",
    "          \n",
    "\n",
    "\n",
    "\n",
    "    "
   ]
  }
 ],
 "metadata": {
  "kernelspec": {
   "display_name": "Python 3 (ipykernel)",
   "language": "python",
   "name": "python3"
  },
  "language_info": {
   "codemirror_mode": {
    "name": "ipython",
    "version": 3
   },
   "file_extension": ".py",
   "mimetype": "text/x-python",
   "name": "python",
   "nbconvert_exporter": "python",
   "pygments_lexer": "ipython3",
   "version": "3.9.12"
  }
 },
 "nbformat": 4,
 "nbformat_minor": 5
}

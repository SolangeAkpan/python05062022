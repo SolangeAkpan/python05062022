{
 "cells": [
  {
   "cell_type": "code",
   "execution_count": 1,
   "metadata": {},
   "outputs": [],
   "source": [
    "# LOOPS\n",
    "# For "
   ]
  },
  {
   "cell_type": "code",
   "execution_count": 1,
   "metadata": {},
   "outputs": [
    {
     "name": "stdout",
     "output_type": "stream",
     "text": [
      "PPP\n",
      "yyy\n",
      "ttt\n",
      "hhh\n",
      "ooo\n",
      "nnn\n"
     ]
    }
   ],
   "source": [
    "word = 'Python'\n",
    "for cam in word:\n",
    "    print(cam * 3)"
   ]
  },
  {
   "cell_type": "code",
   "execution_count": 14,
   "metadata": {},
   "outputs": [
    {
     "name": "stdout",
     "output_type": "stream",
     "text": [
      "Hey, John this is to let you know that i'm fucking rich now\n",
      "Hey, King this is to let you know that i'm fucking rich now\n",
      "Hey, Joy this is to let you know that i'm fucking rich now\n",
      "Hey, Love this is to let you know that i'm fucking rich now\n"
     ]
    }
   ],
   "source": [
    "names = ['John','King','Joy','Love']\n",
    "for name in names:\n",
    "    print(f'Hey, {name} this is to let you know that i\\'m fucking rich now')\n",
    "\n",
    "    "
   ]
  },
  {
   "cell_type": "code",
   "execution_count": 17,
   "metadata": {},
   "outputs": [],
   "source": [
    "scores = {\n",
    "    'James':98,\n",
    "    'Samuel':85,\n",
    "    'Mary':90,\n",
    "    'John':87,\n",
    "    'Ruth':48,\n",
    "    'Samuel':92,\n",
    "    'Jane':100\n",
    "}\n"
   ]
  },
  {
   "cell_type": "code",
   "execution_count": 24,
   "metadata": {},
   "outputs": [
    {
     "name": "stdout",
     "output_type": "stream",
     "text": [
      "James : 98\n",
      "Samuel : 92\n",
      "Mary : 90\n",
      "John : 87\n",
      "Ruth : 48\n",
      "Jane : 100\n"
     ]
    }
   ],
   "source": [
    "for key,value in scores.items():\n",
    "    print(key,':',value)"
   ]
  },
  {
   "cell_type": "markdown",
   "metadata": {},
   "source": [
    "# Break Statement"
   ]
  },
  {
   "cell_type": "code",
   "execution_count": 31,
   "metadata": {},
   "outputs": [
    {
     "name": "stdout",
     "output_type": "stream",
     "text": [
      "Please enter your name to check your score:yul\n",
      "hey the records with the specified above name is not found\n",
      "hey the records with the specified above name is not found\n",
      "hey the records with the specified above name is not found\n",
      "hey the records with the specified above name is not found\n",
      "hey the records with the specified above name is not found\n",
      "hey the records with the specified above name is not found\n"
     ]
    }
   ],
   "source": [
    "name = input('Please enter your name to check your score:')\n",
    "for key in scores:\n",
    "    if name == key:\n",
    "        print(f'Congratulations your score is {scores[key]}')\n",
    "        break\n",
    "    else:\n",
    "            print('hey the records with the specified above name is not found')"
   ]
  },
  {
   "cell_type": "markdown",
   "metadata": {},
   "source": [
    "# Continue Statement"
   ]
  },
  {
   "cell_type": "code",
   "execution_count": 27,
   "metadata": {},
   "outputs": [
    {
     "name": "stdout",
     "output_type": "stream",
     "text": [
      "Please enter your name to check your score:yul\n",
      "hey the records with the specified above name is not found\n",
      "hey the records with the specified above name is not found\n",
      "hey the records with the specified above name is not found\n",
      "hey the records with the specified above name is not found\n",
      "hey the records with the specified above name is not found\n",
      "hey the records with the specified above name is not found\n"
     ]
    }
   ],
   "source": [
    "name = input('Please enter your name to check your score:')\n",
    "for key in scores:\n",
    "    if name == key:\n",
    "        print(f'Congratulations your score is {scores[key]}')\n",
    "        continue\n",
    "    else:\n",
    "            print('hey the records with the specified above name is not found')"
   ]
  },
  {
   "cell_type": "code",
   "execution_count": 30,
   "metadata": {},
   "outputs": [
    {
     "name": "stdout",
     "output_type": "stream",
     "text": [
      "Please enter your name to check your score:yul\n",
      "hey the records with the specified above name is not found\n"
     ]
    }
   ],
   "source": [
    "name = input('Please enter your name to check your score:')\n",
    "for key in scores:\n",
    "    if name == key:\n",
    "        print(f'Congratulations your score is {scores[key]}')\n",
    "        break\n",
    "else:\n",
    "            print('hey the records with the specified above name is not found')"
   ]
  },
  {
   "cell_type": "markdown",
   "metadata": {},
   "source": [
    "# While Loop"
   ]
  },
  {
   "cell_type": "code",
   "execution_count": 40,
   "metadata": {},
   "outputs": [
    {
     "name": "stdout",
     "output_type": "stream",
     "text": [
      "Please provide a number:10\n",
      "3.1622776601683795\n",
      "Please provide a number:10\n",
      "3.1622776601683795\n",
      "Please provide a number:10\n",
      "3.1622776601683795\n",
      "Please provide a number:59\n",
      "7.681145747868608\n",
      "Please provide a number:46\n",
      "6.782329983125268\n",
      "Please provide a number:28\n",
      "5.291502622129181\n",
      "Please provide a number:1\n",
      "1.0\n",
      "Please provide a number:0\n"
     ]
    }
   ],
   "source": [
    "import math\n",
    "count = 0\n",
    "num = int(input('Please provide a number:'))\n",
    "while num != 0:\n",
    "    print(math.sqrt(num))\n",
    "    count = count + 1\n",
    "    num = int(input('Please provide a number:'))\n",
    "          "
   ]
  },
  {
   "cell_type": "code",
   "execution_count": 45,
   "metadata": {},
   "outputs": [
    {
     "name": "stdout",
     "output_type": "stream",
     "text": [
      "[48, 62, 46, 69, 48, 70, 45, 58, 70, 53, 50, 47, 54, 55, 56, 58, 59, 64, 59, 70, 65, 69, 67, 53, 60, 66, 53, 62, 62, 49, 53, 51, 48, 47, 70, 68, 61, 63, 66, 53, 59, 63, 51, 52, 56, 64, 53, 55, 63, 67, 46, 46, 50, 66, 68, 67, 52, 64, 56, 51, 45, 56, 64, 54, 58, 45, 56, 53, 48, 66, 61, 61, 70, 68, 66, 56, 53, 50, 68, 45, 49, 69, 59, 47, 66, 48, 62, 51, 45, 67, 51, 57, 53, 70, 53, 53, 62, 51, 62, 66]\n"
     ]
    }
   ],
   "source": [
    "import random as rn\n",
    "numbers = []\n",
    "counter = 1\n",
    "while counter <= 100:\n",
    "    num = rn.randint(45,70)\n",
    "    numbers.append(num)\n",
    "    counter +=1\n",
    "print(numbers)"
   ]
  },
  {
   "cell_type": "code",
   "execution_count": 46,
   "metadata": {},
   "outputs": [
    {
     "name": "stdout",
     "output_type": "stream",
     "text": [
      "100\n"
     ]
    }
   ],
   "source": [
    "print(len(numbers))"
   ]
  },
  {
   "cell_type": "markdown",
   "metadata": {},
   "source": [
    "# writing a dice game using loop"
   ]
  },
  {
   "cell_type": "code",
   "execution_count": 55,
   "metadata": {},
   "outputs": [
    {
     "name": "stdout",
     "output_type": "stream",
     "text": [
      "Player 1 score:3\n",
      "Player 2 score:3\n",
      "IT'S A DRAW\n",
      "\n",
      "Player 1 score:4\n",
      "Player 2 score:4\n",
      "IT'S A DRAW\n",
      "\n",
      "Player 1 score:5\n",
      "Player 2 score:6\n",
      "Player 2 WINS\n",
      "\n",
      "Player 1 score:3\n",
      "Player 2 score:2\n",
      "Player 1 WINS\n",
      "\n",
      "Player 1 score:6\n",
      "Player 2 score:3\n",
      "Player 1 WINS\n",
      "\n",
      "Player 1 score:5\n",
      "Player 2 score:3\n",
      "Player 1 WINS\n",
      "\n",
      "Player 1 score:3\n",
      "Player 2 score:2\n",
      "Player 1 WINS\n",
      "\n",
      "Player 1 score:2\n",
      "Player 2 score:2\n",
      "IT'S A DRAW\n",
      "\n",
      "Player 1 score:1\n",
      "Player 2 score:2\n",
      "Player 2 WINS\n",
      "\n",
      "Player 1 score:5\n",
      "Player 2 score:1\n",
      "Player 1 WINS\n",
      "\n",
      "Congratulations player 1 is the overall winner with the total score of 18\n"
     ]
    }
   ],
   "source": [
    "score1 = 0\n",
    "score2 = 0\n",
    "\n",
    "for i in range(1,11):\n",
    "    dice1 = rn.randint(1,6)\n",
    "    dice2 = rn.randint(1,6)\n",
    "    \n",
    "    if dice1 > dice2:\n",
    "        print(f'''Player 1 score:{dice1}\n",
    "Player 2 score:{dice2}\n",
    "Player 1 WINS\n",
    "''')\n",
    "        score1 = score1 + 3\n",
    "    elif dice2 > dice1:\n",
    "        print(f'''Player 1 score:{dice1}\n",
    "Player 2 score:{dice2}\n",
    "Player 2 WINS\n",
    "''')\n",
    "        score2 = score2 + 3\n",
    "    else:\n",
    "        print(f'''Player 1 score:{dice1}\n",
    "Player 2 score:{dice2}\n",
    "IT'S A DRAW\n",
    "''')\n",
    "        score1 = score1 + 1\n",
    "        score2 = score2 + 1\n",
    "if score1 > score2:\n",
    "    print(f'Congratulations player 1 is the overall winner with the total score of {score1}')\n",
    "elif score2 > score1:\n",
    "    print(f'Congratulations player 2 is the overall winner with the total score of {score2}')\n",
    "else:\n",
    "    print('IT\\'S A DRAW')\n",
    "    "
   ]
  },
  {
   "cell_type": "code",
   "execution_count": 66,
   "metadata": {},
   "outputs": [
    {
     "name": "stdout",
     "output_type": "stream",
     "text": [
      "Player 1 score:5\n",
      "Player 2 score:6\n",
      "Player 2 WINS\n",
      "\n",
      "Player 1 score:5\n",
      "Player 2 score:2\n",
      "Player 1 WINS\n",
      "\n",
      "Player 1 score:6\n",
      "Player 2 score:4\n",
      "Player 1 WINS\n",
      "\n",
      "Player 1 score:5\n",
      "Player 2 score:5\n",
      "IT'S A DRAW\n",
      "\n",
      "Player 1 score:1\n",
      "Player 2 score:2\n",
      "Player 2 WINS\n",
      "\n",
      "Player 1 score:6\n",
      "Player 2 score:6\n",
      "IT'S A DRAW\n",
      "\n",
      "Player 1 score:5\n",
      "Player 2 score:4\n",
      "Player 1 WINS\n",
      "\n",
      "Player 1 score:3\n",
      "Player 2 score:3\n",
      "IT'S A DRAW\n",
      "\n",
      "Player 1 score:5\n",
      "Player 2 score:1\n",
      "Player 1 WINS\n",
      "\n",
      "Player 1 score:6\n",
      "Player 2 score:1\n",
      "Player 1 WINS\n",
      "\n",
      "Congratulations player 1 is the overall winner with the total score of 18\n"
     ]
    }
   ],
   "source": [
    "score1 = 0\n",
    "score2 = 0\n",
    "counter = 1\n",
    "\n",
    "while counter <= 10:\n",
    "    \n",
    "    dice1 = rn.randint(1,6)\n",
    "    dice2 = rn.randint(1,6)\n",
    "    \n",
    "    if dice1 > dice2:\n",
    "        print(f'''Player 1 score:{dice1}\n",
    "Player 2 score:{dice2}\n",
    "Player 1 WINS\n",
    "''')\n",
    "        score1 = score1 + 3\n",
    "    elif dice2 > dice1:\n",
    "        print(f'''Player 1 score:{dice1}\n",
    "Player 2 score:{dice2}\n",
    "Player 2 WINS\n",
    "''')\n",
    "        score2 = score2 + 3\n",
    "    else:\n",
    "        print(f'''Player 1 score:{dice1}\n",
    "Player 2 score:{dice2}\n",
    "IT'S A DRAW\n",
    "''')\n",
    "        score1 = score1 + 1\n",
    "        score2 = score2 + 1\n",
    "    counter += 1\n",
    "if score1 > score2:\n",
    "    print(f'Congratulations player 1 is the overall winner with the total score of {score1}')\n",
    "elif score2 > score1:\n",
    "    print(f'Congratulations player 2 is the overall winner with the total score of {score2}')\n",
    "else:\n",
    "    print('IT\\'S A DRAW')\n",
    "    "
   ]
  },
  {
   "cell_type": "code",
   "execution_count": null,
   "metadata": {},
   "outputs": [],
   "source": []
  }
 ],
 "metadata": {
  "kernelspec": {
   "display_name": "Python 3 (ipykernel)",
   "language": "python",
   "name": "python3"
  },
  "language_info": {
   "codemirror_mode": {
    "name": "ipython",
    "version": 3
   },
   "file_extension": ".py",
   "mimetype": "text/x-python",
   "name": "python",
   "nbconvert_exporter": "python",
   "pygments_lexer": "ipython3",
   "version": "3.9.12"
  }
 },
 "nbformat": 4,
 "nbformat_minor": 4
}

{
 "cells": [
  {
   "cell_type": "markdown",
   "id": "79e1e5ce",
   "metadata": {},
   "source": [
    "# DATE AND TIME\n",
    "\n",
    "STRIFTIME"
   ]
  },
  {
   "cell_type": "code",
   "execution_count": 2,
   "id": "8d4f9899",
   "metadata": {},
   "outputs": [],
   "source": [
    "import datetime as dt"
   ]
  },
  {
   "cell_type": "code",
   "execution_count": 3,
   "id": "3f94e1b9",
   "metadata": {},
   "outputs": [
    {
     "name": "stdout",
     "output_type": "stream",
     "text": [
      "['MAXYEAR', 'MINYEAR', '__all__', '__builtins__', '__cached__', '__doc__', '__file__', '__loader__', '__name__', '__package__', '__spec__', 'date', 'datetime', 'datetime_CAPI', 'sys', 'time', 'timedelta', 'timezone', 'tzinfo']\n"
     ]
    }
   ],
   "source": [
    "print(dir(dt))"
   ]
  },
  {
   "cell_type": "code",
   "execution_count": 4,
   "id": "3f5ab650",
   "metadata": {},
   "outputs": [],
   "source": [
    "#Creating a manual date\n",
    "date1 =dt.date(2022,2,22)"
   ]
  },
  {
   "cell_type": "code",
   "execution_count": 5,
   "id": "4a808917",
   "metadata": {},
   "outputs": [
    {
     "name": "stdout",
     "output_type": "stream",
     "text": [
      "2022\n",
      "2\n",
      "22\n"
     ]
    }
   ],
   "source": [
    "print(date1.year)\n",
    "print(date1.month)\n",
    "print(date1.day)"
   ]
  },
  {
   "cell_type": "code",
   "execution_count": 6,
   "id": "3556d46a",
   "metadata": {},
   "outputs": [
    {
     "data": {
      "text/plain": [
       "datetime.date(2022, 6, 9)"
      ]
     },
     "execution_count": 6,
     "metadata": {},
     "output_type": "execute_result"
    }
   ],
   "source": [
    "currentdate =dt.date.today()\n",
    "currentdate"
   ]
  },
  {
   "cell_type": "markdown",
   "id": "0e09b367",
   "metadata": {},
   "source": [
    "# How to modify using striftime"
   ]
  },
  {
   "cell_type": "code",
   "execution_count": 8,
   "id": "a51f324d",
   "metadata": {},
   "outputs": [
    {
     "data": {
      "text/plain": [
       "'160'"
      ]
     },
     "execution_count": 8,
     "metadata": {},
     "output_type": "execute_result"
    }
   ],
   "source": [
    "currentdate.strftime('%j')"
   ]
  },
  {
   "cell_type": "code",
   "execution_count": 9,
   "id": "44e31e3c",
   "metadata": {},
   "outputs": [
    {
     "data": {
      "text/plain": [
       "'09 June,2022'"
      ]
     },
     "execution_count": 9,
     "metadata": {},
     "output_type": "execute_result"
    }
   ],
   "source": [
    "currentdate.strftime('%d %B,%Y')"
   ]
  },
  {
   "cell_type": "markdown",
   "id": "cb48ff3f",
   "metadata": {},
   "source": [
    "#How to get the current time"
   ]
  },
  {
   "cell_type": "code",
   "execution_count": 25,
   "id": "471d57a1",
   "metadata": {},
   "outputs": [
    {
     "data": {
      "text/plain": [
       "datetime.time(22, 13, 35, 790775)"
      ]
     },
     "execution_count": 25,
     "metadata": {},
     "output_type": "execute_result"
    }
   ],
   "source": [
    "currenttime =dt.datetime.now().time()\n",
    "currenttime"
   ]
  },
  {
   "cell_type": "code",
   "execution_count": 29,
   "id": "212b211a",
   "metadata": {},
   "outputs": [
    {
     "data": {
      "text/plain": [
       "'22'"
      ]
     },
     "execution_count": 29,
     "metadata": {},
     "output_type": "execute_result"
    }
   ],
   "source": [
    "currenttime.strftime('%H')"
   ]
  },
  {
   "cell_type": "code",
   "execution_count": 27,
   "id": "159057e7",
   "metadata": {},
   "outputs": [
    {
     "data": {
      "text/plain": [
       "'10'"
      ]
     },
     "execution_count": 27,
     "metadata": {},
     "output_type": "execute_result"
    }
   ],
   "source": [
    "currenttime.strftime('%I')"
   ]
  },
  {
   "cell_type": "code",
   "execution_count": 30,
   "id": "3aeac005",
   "metadata": {},
   "outputs": [
    {
     "data": {
      "text/plain": [
       "'22:13 PM'"
      ]
     },
     "execution_count": 30,
     "metadata": {},
     "output_type": "execute_result"
    }
   ],
   "source": [
    "currenttime.strftime('%H:%M %p')"
   ]
  },
  {
   "cell_type": "code",
   "execution_count": 31,
   "id": "da87127d",
   "metadata": {},
   "outputs": [],
   "source": [
    "#DIFFERENT B/W TWO DATE"
   ]
  },
  {
   "cell_type": "code",
   "execution_count": 32,
   "id": "954d6a3f",
   "metadata": {},
   "outputs": [
    {
     "data": {
      "text/plain": [
       "datetime.date(2025, 4, 24)"
      ]
     },
     "execution_count": 32,
     "metadata": {},
     "output_type": "execute_result"
    }
   ],
   "source": [
    "tdelta =dt.timedelta(weeks =150)\n",
    "currentdate +tdelta"
   ]
  },
  {
   "cell_type": "code",
   "execution_count": 34,
   "id": "e6e3ce67",
   "metadata": {},
   "outputs": [
    {
     "data": {
      "text/plain": [
       "datetime.date(2022, 1, 10)"
      ]
     },
     "execution_count": 34,
     "metadata": {},
     "output_type": "execute_result"
    }
   ],
   "source": [
    "tdelta =dt.timedelta(days =150)\n",
    "currentdate -tdelta"
   ]
  },
  {
   "cell_type": "code",
   "execution_count": 36,
   "id": "6bd3863d",
   "metadata": {},
   "outputs": [],
   "source": [
    "  #STRPTIME\n",
    "    "
   ]
  },
  {
   "cell_type": "code",
   "execution_count": 39,
   "id": "40995f6c",
   "metadata": {},
   "outputs": [
    {
     "name": "stdout",
     "output_type": "stream",
     "text": [
      "please enter your birthday (yy/dd/mm):2020/14/6\n",
      "2020-06-14 00:00:00\n"
     ]
    }
   ],
   "source": [
    "    date2=input('please enter your birthday (yy/dd/mm):')\n",
    "    cdate=dt.datetime.strptime(date2,'%Y/%d/%m')\n",
    "    print(cdate)"
   ]
  },
  {
   "cell_type": "code",
   "execution_count": 42,
   "id": "2e2926d9",
   "metadata": {},
   "outputs": [
    {
     "name": "stdout",
     "output_type": "stream",
     "text": [
      "please enter your birthday (yy/dd/mm):2020/3/6\n",
      "2020-06-03\n"
     ]
    }
   ],
   "source": [
    "    date2=input('please enter your birthday (yy/dd/mm):')\n",
    "    cdate=dt.datetime.strptime(date2,'%Y/%d/%m').date()\n",
    "    print(cdate)"
   ]
  },
  {
   "cell_type": "code",
   "execution_count": 44,
   "id": "1a7e278a",
   "metadata": {},
   "outputs": [
    {
     "ename": "SyntaxError",
     "evalue": "invalid syntax (3799853261.py, line 2)",
     "output_type": "error",
     "traceback": [
      "\u001b[1;36m  Input \u001b[1;32mIn [44]\u001b[1;36m\u001b[0m\n\u001b[1;33m    collect a  date from a user and write a program to return how many weeks and days they have until there appointment from the currentdate\u001b[0m\n\u001b[1;37m            ^\u001b[0m\n\u001b[1;31mSyntaxError\u001b[0m\u001b[1;31m:\u001b[0m invalid syntax\n"
     ]
    }
   ],
   "source": [
    "# exercise\n",
    "collect a  date from a user and write a program to return how many weeks and days they have until there \n",
    "appointment from the currentdate"
   ]
  },
  {
   "cell_type": "code",
   "execution_count": 46,
   "id": "234bc5ac",
   "metadata": {},
   "outputs": [
    {
     "name": "stdout",
     "output_type": "stream",
     "text": [
      "please enter your previous weeks and day12\n",
      "2022-06-09\n"
     ]
    },
    {
     "ename": "NameError",
     "evalue": "name 'weeks' is not defined",
     "output_type": "error",
     "traceback": [
      "\u001b[1;31m---------------------------------------------------------------------------\u001b[0m",
      "\u001b[1;31mNameError\u001b[0m                                 Traceback (most recent call last)",
      "Input \u001b[1;32mIn [46]\u001b[0m, in \u001b[0;36m<cell line: 4>\u001b[1;34m()\u001b[0m\n\u001b[0;32m      2\u001b[0m currentdate\u001b[38;5;241m=\u001b[39mdt\u001b[38;5;241m.\u001b[39mdate\u001b[38;5;241m.\u001b[39mtoday()\n\u001b[0;32m      3\u001b[0m \u001b[38;5;28mprint\u001b[39m(currentdate)\n\u001b[1;32m----> 4\u001b[0m appointment_date\u001b[38;5;241m=\u001b[39mtdelta \u001b[38;5;241m=\u001b[39mdt\u001b[38;5;241m.\u001b[39mtimedelta(\u001b[43mweeks\u001b[49m \u001b[38;5;241m-\u001b[39mcurrentday)\n\u001b[0;32m      5\u001b[0m \u001b[38;5;28mprint\u001b[39m(appointment_date)\n",
      "\u001b[1;31mNameError\u001b[0m: name 'weeks' is not defined"
     ]
    }
   ],
   "source": [
    "user=input('please enter your previous weeks and day')\n",
    "currentdate=dt.date.today()\n",
    "print(currentdate)\n",
    "appointment_date=tdelta =dt.timedelta(weeks -currentday)\n",
    "print(appointment_date)\n"
   ]
  },
  {
   "cell_type": "code",
   "execution_count": null,
   "id": "0f38b6cf",
   "metadata": {},
   "outputs": [],
   "source": [
    "\n"
   ]
  },
  {
   "cell_type": "code",
   "execution_count": 54,
   "id": "e29adfb5",
   "metadata": {},
   "outputs": [
    {
     "name": "stdout",
     "output_type": "stream",
     "text": [
      "please enter your name:grace\n",
      "please Enter your appiontment date in this format(dd/mm/y):24/12/2022\n",
      "Heygraceyou have28weeks and1days until your appointment.\n"
     ]
    }
   ],
   "source": [
    "name=input('please enter your name:')\n",
    "strdate=input('please Enter your appiontment date in this format(dd/mm/y):')\n",
    "Tnodays=0\n",
    "nodays=0\n",
    "noweeks=0\n",
    "currentdate=dt.datetime.today()\n",
    "Appointmentdate=dt.datetime.strptime(strdate,'%d/%m/%Y')\n",
    "Tnodays=Appointmentdate -currentdate\n",
    "noweeks=Tnodays.days//7\n",
    "nodays=Tnodays.days % 7\n",
    "print(f'Hey{name}you have{noweeks}weeks and{nodays}days until your appointment.')\n"
   ]
  },
  {
   "cell_type": "code",
   "execution_count": null,
   "id": "1b9bb467",
   "metadata": {},
   "outputs": [],
   "source": []
  }
 ],
 "metadata": {
  "kernelspec": {
   "display_name": "Python 3 (ipykernel)",
   "language": "python",
   "name": "python3"
  },
  "language_info": {
   "codemirror_mode": {
    "name": "ipython",
    "version": 3
   },
   "file_extension": ".py",
   "mimetype": "text/x-python",
   "name": "python",
   "nbconvert_exporter": "python",
   "pygments_lexer": "ipython3",
   "version": "3.9.12"
  }
 },
 "nbformat": 4,
 "nbformat_minor": 5
}

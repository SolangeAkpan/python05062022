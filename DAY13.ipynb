{
 "cells": [
  {
   "cell_type": "markdown",
   "id": "3a0b1343",
   "metadata": {},
   "source": [
    "#  Class:Object oriented Programming"
   ]
  },
  {
   "cell_type": "code",
   "execution_count": 4,
   "id": "9a699bfb",
   "metadata": {},
   "outputs": [
    {
     "data": {
      "text/plain": [
       "'Mamma1'"
      ]
     },
     "execution_count": 4,
     "metadata": {},
     "output_type": "execute_result"
    }
   ],
   "source": [
    "class dog:\n",
    "    attr1='Mamma1'\n",
    "    attr2='bark'\n",
    "    \n",
    "obj=dog()\n",
    "obj.attr1"
   ]
  },
  {
   "cell_type": "code",
   "execution_count": 6,
   "id": "838a20ae",
   "metadata": {},
   "outputs": [
    {
     "data": {
      "text/plain": [
       "'Mamma1'"
      ]
     },
     "execution_count": 6,
     "metadata": {},
     "output_type": "execute_result"
    }
   ],
   "source": [
    "class dog:\n",
    "    attr1='Mamma1'\n",
    "    attr2='bark'\n",
    " \n",
    "    def family(self):\n",
    "        print(f'Rocky belongs to the family of{self.attr1}')\n",
    "obj=dog()\n",
    "obj.attr1"
   ]
  },
  {
   "cell_type": "markdown",
   "id": "e5bd25f1",
   "metadata": {},
   "source": [
    "# Proper ways of writting class:"
   ]
  },
  {
   "cell_type": "markdown",
   "id": "aa2d2f86",
   "metadata": {},
   "source": [
    "# note:everything inside the class is function"
   ]
  },
  {
   "cell_type": "code",
   "execution_count": 17,
   "id": "9a969ca2",
   "metadata": {},
   "outputs": [
    {
     "ename": "IndentationError",
     "evalue": "unexpected indent (454353264.py, line 28)",
     "output_type": "error",
     "traceback": [
      "\u001b[1;36m  Input \u001b[1;32mIn [17]\u001b[1;36m\u001b[0m\n\u001b[1;33m    if option=='1':\u001b[0m\n\u001b[1;37m    ^\u001b[0m\n\u001b[1;31mIndentationError\u001b[0m\u001b[1;31m:\u001b[0m unexpected indent\n"
     ]
    }
   ],
   "source": [
    "\n",
    "    \n",
    "            \n",
    "    \n",
    "    \n",
    "\n",
    "\n",
    "\n",
    "\n",
    "\n"
   ]
  },
  {
   "cell_type": "code",
   "execution_count": 21,
   "id": "b952cd06",
   "metadata": {},
   "outputs": [
    {
     "name": "stdout",
     "output_type": "stream",
     "text": [
      "BlackLamborghini has started\n",
      "None\n",
      "please choose your Gear4\n",
      "Gear has been changed to 4\n",
      "None\n",
      "please choose enter 1 to engage your nitro or 2 to disengage your nitro2\n",
      "Nitro Disengaged\n",
      "None\n",
      "BlackLamborghini has stopped Game over!!!!!!!!!!!!!!!!!\n",
      "None\n"
     ]
    }
   ],
   "source": [
    "class car_simulation_game:\n",
    "    def __init__(self,Brand,Colour,Model,Year,Speed):\n",
    "        self.Brand =Brand\n",
    "        self.Model =Model\n",
    "        self.Colour =Colour\n",
    "        self.Year =Year\n",
    "        self.Speed=Speed\n",
    "        \n",
    "    def start(self):\n",
    "        print(f'{self.Model}{self.Brand} has started')\n",
    "    def gear(self):\n",
    "        option=input('please choose your Gear')\n",
    "        if option =='1':\n",
    "            print('Gear has been changed to 1')\n",
    "        elif option =='2':\n",
    "            print('Gear has been changed to 2')\n",
    "        elif option =='3':\n",
    "            print('Gear has been changed to 3')\n",
    "        elif option =='4':\n",
    "             print('Gear has been changed to 4')\n",
    "        elif option =='5':\n",
    "            print('Gear has been changed to 5')\n",
    "        elif option =='R':\n",
    "            print('Gear has been changed to Reverse')\n",
    "    def nitro (self):\n",
    "        option=input('please choose enter 1 to engage your nitro or 2 to disengage your nitro')\n",
    "        if option=='1':\n",
    "            print('Nitro Engaged')\n",
    "        elif option =='2':\n",
    "            print('Nitro Disengaged')\n",
    "    def stop(self):\n",
    "        print(f'{self.Model}{self.Brand} has stopped Game over!!!!!!!!!!!!!!!!!')\n",
    "car1=car_simulation_game('Lamborghini','Mercilado','Black',2020,351)\n",
    "print(car1.start())\n",
    "print(car1.gear())\n",
    "print(car1.nitro())\n",
    "print(car1.stop())\n",
    "\n",
    "\n",
    "    "
   ]
  },
  {
   "cell_type": "code",
   "execution_count": 22,
   "id": "d5dd7868",
   "metadata": {},
   "outputs": [
    {
     "name": "stdout",
     "output_type": "stream",
     "text": [
      "BlackLamborghini has started\n",
      "None\n",
      "please choose your Gear2\n",
      "Gear has been changed to 2\n",
      "None\n",
      "please choose enter 1 to engage your nitro or 2 to disengage your nitro1\n",
      "Nitro Engaged\n",
      "None\n",
      "BlackLamborghini has stopped Game over!!!!!!!!!!!!!!!!!\n",
      "None\n"
     ]
    }
   ],
   "source": [
    " class F12(car_simulation_game):\n",
    "        def openroof(self):\n",
    "            option=input('1 to open roof or 2 to close roof')\n",
    "            if option=='1':\n",
    "                print('Roof Open')\n",
    "            elif option=='2':\n",
    "                print('Roof Closed')\n",
    "car2= F12('Mercedez','ML','Gray',2022,400)\n",
    "print(car1.start())\n",
    "print(car1.gear())\n",
    "print(car1.nitro())\n",
    "print(car1.stop())\n"
   ]
  },
  {
   "cell_type": "code",
   "execution_count": 38,
   "id": "a3ad8407",
   "metadata": {},
   "outputs": [
    {
     "name": "stdout",
     "output_type": "stream",
     "text": [
      "press 1 to jump or 2 to roll under2\n",
      "Rollunderobstacle\n",
      "None\n",
      "press low for normal jump or press high for power jump high\n",
      "None\n",
      "press k to kick small obstacle or p to punch large obstaclep\n",
      "punch large obstacle\n",
      "None\n",
      "press R to move to the right or L to move to the leftl\n",
      "Go Straight\n",
      "None\n"
     ]
    }
   ],
   "source": [
    "class sonic:\n",
    "    def __init__(self,Name,Colour,Xteristics1,xteristics2,Xteristics3):\n",
    "        self.Name =Name\n",
    "        self.Colour =Colour\n",
    "        self.xteristics1 =Xteristics1\n",
    "        self.xteristics2=xteristics2\n",
    "        self.Xteristics3=Xteristics3\n",
    "        \n",
    "    def obstacle1(self):\n",
    "        option=input('press 1 to jump or 2 to roll under')\n",
    "        if option =='1':\n",
    "            print('JumpObstacle')\n",
    "        elif option=='2':\n",
    "            print('Rollunderobstacle')\n",
    "    def obstacle2(self):\n",
    "        option=input('press low for normal jump or press high for power jump ')\n",
    "        if option=='Low':\n",
    "            print('Jump normal Selected')\n",
    "        elif option =='High':\n",
    "            print('Power jump Selected')\n",
    "    def obstacle3(self):\n",
    "        option=input('press k to kick small obstacle or p to punch large obstacle')\n",
    "        if option=='k':\n",
    "            print('kick small obstacle')\n",
    "        elif option=='p':\n",
    "            print('punch large obstacle')\n",
    "    def direction(self):\n",
    "        option=input('press R to move to the right or L to move to the left')\n",
    "        if option=='R':\n",
    "            print('Move Right')\n",
    "        elif option=='L':\n",
    "            print('Move Left')\n",
    "            \n",
    "        else:\n",
    "            print('Go Straight')\n",
    "player1=sonic('Knuckles','Yellow','Strong','Fast','Intelligent')\n",
    "print(player1.obstacle1())\n",
    "print(player1.obstacle2())\n",
    "print(player1.obstacle3())\n",
    "print(player1.direction())\n",
    "\n",
    "        \n",
    "    "
   ]
  },
  {
   "cell_type": "code",
   "execution_count": null,
   "id": "e730ca2b",
   "metadata": {},
   "outputs": [],
   "source": []
  }
 ],
 "metadata": {
  "kernelspec": {
   "display_name": "Python 3 (ipykernel)",
   "language": "python",
   "name": "python3"
  },
  "language_info": {
   "codemirror_mode": {
    "name": "ipython",
    "version": 3
   },
   "file_extension": ".py",
   "mimetype": "text/x-python",
   "name": "python",
   "nbconvert_exporter": "python",
   "pygments_lexer": "ipython3",
   "version": "3.9.12"
  }
 },
 "nbformat": 4,
 "nbformat_minor": 5
}

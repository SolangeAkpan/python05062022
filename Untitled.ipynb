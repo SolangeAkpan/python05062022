{
 "cells": [
  {
   "cell_type": "code",
   "execution_count": 4,
   "id": "67c507cb",
   "metadata": {},
   "outputs": [
    {
     "ename": "ModuleNotFoundError",
     "evalue": "No module named 'mortgage'",
     "output_type": "error",
     "traceback": [
      "\u001b[1;31m---------------------------------------------------------------------------\u001b[0m",
      "\u001b[1;31mModuleNotFoundError\u001b[0m                       Traceback (most recent call last)",
      "Input \u001b[1;32mIn [4]\u001b[0m, in \u001b[0;36m<cell line: 1>\u001b[1;34m()\u001b[0m\n\u001b[1;32m----> 1\u001b[0m \u001b[38;5;28;01mimport\u001b[39;00m \u001b[38;5;21;01mmortgage\u001b[39;00m\n\u001b[0;32m      2\u001b[0m m\u001b[38;5;241m=\u001b[39mmortgage\u001b[38;5;241m.\u001b[39mmortgage(interest\u001b[38;5;241m=\u001b[39m\u001b[38;5;241m0.0375\u001b[39m,amount\u001b[38;5;241m=\u001b[39m\u001b[38;5;241m350000\u001b[39m,months\u001b[38;5;241m=\u001b[39m\u001b[38;5;241m15\u001b[39m)\n\u001b[0;32m      3\u001b[0m mortage\u001b[38;5;241m.\u001b[39mprint_summary(m)\n",
      "\u001b[1;31mModuleNotFoundError\u001b[0m: No module named 'mortgage'"
     ]
    }
   ],
   "source": [
    "import mortgage\n",
    "m=mortgage.mortgage(interest=0.0375,amount=350000,months=15)\n",
    "mortage.print_summary(m)"
   ]
  },
  {
   "cell_type": "code",
   "execution_count": null,
   "id": "abbdeb07",
   "metadata": {},
   "outputs": [],
   "source": []
  },
  {
   "cell_type": "code",
   "execution_count": null,
   "id": "405e3285",
   "metadata": {},
   "outputs": [],
   "source": []
  }
 ],
 "metadata": {
  "kernelspec": {
   "display_name": "Python 3 (ipykernel)",
   "language": "python",
   "name": "python3"
  },
  "language_info": {
   "codemirror_mode": {
    "name": "ipython",
    "version": 3
   },
   "file_extension": ".py",
   "mimetype": "text/x-python",
   "name": "python",
   "nbconvert_exporter": "python",
   "pygments_lexer": "ipython3",
   "version": "3.9.12"
  }
 },
 "nbformat": 4,
 "nbformat_minor": 5
}

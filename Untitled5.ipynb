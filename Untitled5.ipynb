{
 "cells": [
  {
   "cell_type": "code",
   "execution_count": 2,
   "id": "160f33f3",
   "metadata": {},
   "outputs": [
    {
     "name": "stdout",
     "output_type": "stream",
     "text": [
      "How much do you want to borrow/n800000\n",
      "What is the intrest rate of the loan/n 5\n",
      "How many month to repay your loan/n12\n"
     ]
    },
    {
     "ename": "NameError",
     "evalue": "name 'loanAmount' is not defined",
     "output_type": "error",
     "traceback": [
      "\u001b[1;31m---------------------------------------------------------------------------\u001b[0m",
      "\u001b[1;31mNameError\u001b[0m                                 Traceback (most recent call last)",
      "Input \u001b[1;32mIn [2]\u001b[0m, in \u001b[0;36m<cell line: 8>\u001b[1;34m()\u001b[0m\n\u001b[0;32m      5\u001b[0m repaymentlength\u001b[38;5;241m=\u001b[39m\u001b[38;5;28minput\u001b[39m(\u001b[38;5;124m\"\u001b[39m\u001b[38;5;124mHow many month to repay your loan/n\u001b[39m\u001b[38;5;124m\"\u001b[39m)\n\u001b[0;32m      7\u001b[0m \u001b[38;5;66;03m#converting input variables to float\u001b[39;00m\n\u001b[1;32m----> 8\u001b[0m loanAmount\u001b[38;5;241m=\u001b[39m\u001b[38;5;28mfloat\u001b[39m(\u001b[43mloanAmount\u001b[49m)\n\u001b[0;32m      9\u001b[0m intrestRate\u001b[38;5;241m=\u001b[39m\u001b[38;5;28mfloat\u001b[39m(\u001b[38;5;124m'\u001b[39m\u001b[38;5;124mintrestRate\u001b[39m\u001b[38;5;124m'\u001b[39m)\n\u001b[0;32m     10\u001b[0m repaymentLength\u001b[38;5;241m=\u001b[39m\u001b[38;5;28mfloat\u001b[39m(\u001b[38;5;124m'\u001b[39m\u001b[38;5;124mrepaymentLength\u001b[39m\u001b[38;5;124m'\u001b[39m)\n",
      "\u001b[1;31mNameError\u001b[0m: name 'loanAmount' is not defined"
     ]
    }
   ],
   "source": [
    "# This program calculate the monthly payments on an intrest rate loan/mortage.\n",
    "\n",
    "loanamount= input(\"How much do you want to borrow/n\")\n",
    "intrestrate=input(\"What is the intrest rate of the loan/n \")\n",
    "repaymentlength=input(\"How many month to repay your loan/n\")\n",
    "\n",
    "#converting input variables to float\n",
    "loanAmount=float(loanAmount)\n",
    "intrestRate=float('intrestRate')\n",
    "repaymentLength=float('repaymentLength')\n",
    "\n",
    "#working out interest rate to a decimal number\n",
    "interestcalculation= interestrate/100\n",
    "\n",
    "print(interestRate)\n",
    "print(interestCalculation)\n",
    "\n",
    "#working out the number of payments over the course of the loan period.\n",
    "numberOfPayments=repaymentLength*12\n",
    "\n",
    "#Formula\n",
    "# M=L[i(1 +i)n] /[(1+i)n-1]\n",
    "\n",
    "# M=Monthlypayment(what we are trying to find)\n",
    "# L=LoanAmount(loanAmount)\n",
    "# I=InterestRate(for an interest rate of 5%,i=0.05)\n",
    "# N=Number of payments(repaymentLength) \n",
    "\n",
    "#repaymentcost=loanAmount *interestRate *(1+interestRate)*numberOfPayment/((1+ interestRate)*numberOfPayment -1)\n",
    "# working out the total cost of the repayment over the full term of the loan\n",
    "totalCharge =(monthlyRepaymentCost *numberOfPayments)-loanAmount\n",
    "\n",
    "print(\"You want to borrow £\"+str(loanAmount)+\"over\"+str(repaymentLength)+ \"years,with an interest rate of\"+str(interestRate)+\"%!\")\n",
    "print(\"Your monthly repayment will be £\"+str(monthlyRepaymentCost))\n",
    "print(\"Your monthly repayment will be £%.2f\"% monhlyRepaymentCost)\n",
    "print(\"The total charge on this loan will be £%.2f !\"% totalCharge)\n"
   ]
  },
  {
   "cell_type": "code",
   "execution_count": null,
   "id": "4c763953",
   "metadata": {},
   "outputs": [],
   "source": []
  }
 ],
 "metadata": {
  "kernelspec": {
   "display_name": "Python 3 (ipykernel)",
   "language": "python",
   "name": "python3"
  },
  "language_info": {
   "codemirror_mode": {
    "name": "ipython",
    "version": 3
   },
   "file_extension": ".py",
   "mimetype": "text/x-python",
   "name": "python",
   "nbconvert_exporter": "python",
   "pygments_lexer": "ipython3",
   "version": "3.9.12"
  }
 },
 "nbformat": 4,
 "nbformat_minor": 5
}

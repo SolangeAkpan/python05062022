{
 "cells": [
  {
   "cell_type": "code",
   "execution_count": 1,
   "metadata": {},
   "outputs": [
    {
     "name": "stdout",
     "output_type": "stream",
     "text": [
      "i sold two pairs of shirt for 20000, a shoe for 10000 and a suit for 15000\n"
     ]
    }
   ],
   "source": [
    "price1 = 20000\n",
    "price2 = 10000\n",
    "price3 = 15000\n",
    "report = 'i sold two pairs of shirt for {}, a shoe for {} and a suit for {}'\n",
    "print(report.format(price1,price2,price3))\n"
   ]
  },
  {
   "cell_type": "code",
   "execution_count": 2,
   "metadata": {},
   "outputs": [
    {
     "name": "stdout",
     "output_type": "stream",
     "text": [
      "i sold two pairs of shirts for 20000, a pair of shoe for 10000 and a suit for 15000\n"
     ]
    }
   ],
   "source": [
    "print(f'i sold two pairs of shirts for {price1}, a pair of shoe for {price2} and a suit for {price3}')"
   ]
  },
  {
   "cell_type": "code",
   "execution_count": 3,
   "metadata": {},
   "outputs": [
    {
     "name": "stdout",
     "output_type": "stream",
     "text": [
      "PYTHON\n",
      "python\n",
      "Python Is Fun\n",
      "Python is fun\n",
      "['python', 'is', 'fun']\n",
      "python is fun\n"
     ]
    }
   ],
   "source": [
    "word1='python'\n",
    "word2='PYTHON'\n",
    "word3='python is fun'\n",
    "word4='      python is fun'\n",
    "print(word1.upper())\n",
    "print(word2.lower())\n",
    "print(word3.title())\n",
    "print(word3.capitalize())\n",
    "print(word3.split())\n",
    "print(word4.strip())"
   ]
  },
  {
   "cell_type": "markdown",
   "metadata": {},
   "source": [
    "# Data Type Conversion"
   ]
  },
  {
   "cell_type": "code",
   "execution_count": 4,
   "metadata": {},
   "outputs": [
    {
     "name": "stdout",
     "output_type": "stream",
     "text": [
      "19\n"
     ]
    }
   ],
   "source": [
    "num1=int(19.5)\n",
    "print(num1)"
   ]
  },
  {
   "cell_type": "code",
   "execution_count": 5,
   "metadata": {},
   "outputs": [
    {
     "name": "stdout",
     "output_type": "stream",
     "text": [
      "99\n"
     ]
    }
   ],
   "source": [
    "num2=str(99)\n",
    "print(num2)"
   ]
  },
  {
   "cell_type": "code",
   "execution_count": 6,
   "metadata": {},
   "outputs": [
    {
     "name": "stdout",
     "output_type": "stream",
     "text": [
      "4563728\n"
     ]
    }
   ],
   "source": [
    "num3=4563728.7864\n",
    "print(int(num3))"
   ]
  },
  {
   "cell_type": "code",
   "execution_count": 7,
   "metadata": {},
   "outputs": [
    {
     "name": "stdout",
     "output_type": "stream",
     "text": [
      "89.0\n"
     ]
    }
   ],
   "source": [
    "num4='89'\n",
    "print(float(num4))"
   ]
  },
  {
   "cell_type": "markdown",
   "metadata": {},
   "source": [
    "# OPERATORS"
   ]
  },
  {
   "cell_type": "markdown",
   "metadata": {},
   "source": [
    "# Arithmetic operators\n",
    "## + addition\n",
    "## - subtraction\n",
    "## * multiplication\n",
    "## / division\n",
    "## % modulus\n",
    "## // interger division\n",
    "## ** exponetia\n",
    "\n",
    "\n"
   ]
  },
  {
   "cell_type": "code",
   "execution_count": 8,
   "metadata": {},
   "outputs": [
    {
     "name": "stdout",
     "output_type": "stream",
     "text": [
      "25 + 15 = 40\n",
      "25 - 15 = 10\n",
      "25 x 15 = 375\n",
      "25 / 15 = 1.6666666666666667\n",
      "25 % 15 = 10\n",
      "25 // 15 = 1\n",
      "25 ^ 15 = 931322574615478515625\n"
     ]
    }
   ],
   "source": [
    "number1=25\n",
    "number2=15\n",
    "\n",
    "print(f'{number1} + {number2} = {number1 + number2}')\n",
    "print(f'{number1} - {number2} = {number1 - number2}')\n",
    "print(f'{number1} x {number2} = {number1 * number2}')\n",
    "print(f'{number1} / {number2} = {number1 / number2}')\n",
    "print(f'{number1} % {number2} = {number1 % number2}')\n",
    "print(f'{number1} // {number2} = {number1 // number2}')\n",
    "print(f'{number1} ^ {number2} = {number1 ** number2}')"
   ]
  },
  {
   "cell_type": "markdown",
   "metadata": {},
   "source": [
    "# Comparism operator\n",
    "## > greater than\n",
    "## < less than\n",
    "## >= greater than or equal to\n",
    "## <= less than or equal to\n",
    "## == equal to\n",
    "## != not equal to"
   ]
  },
  {
   "cell_type": "code",
   "execution_count": 9,
   "metadata": {},
   "outputs": [
    {
     "name": "stdout",
     "output_type": "stream",
     "text": [
      "True\n",
      "False\n",
      "True\n",
      "False\n",
      "False\n",
      "True\n"
     ]
    }
   ],
   "source": [
    "print(number1 > number2)\n",
    "print(number1 < number2)\n",
    "print(number1 >= number2)\n",
    "print(number1 <= number2)\n",
    "print(number1 == number2)\n",
    "print(number1 != number2)"
   ]
  },
  {
   "cell_type": "markdown",
   "metadata": {},
   "source": [
    "# LOGICAL OPERATORS\n",
    "and,or,not\n"
   ]
  },
  {
   "cell_type": "code",
   "execution_count": 12,
   "metadata": {},
   "outputs": [
    {
     "name": "stdout",
     "output_type": "stream",
     "text": [
      "False\n"
     ]
    }
   ],
   "source": [
    "print(number1 != number2 and number1 < number2)"
   ]
  },
  {
   "cell_type": "code",
   "execution_count": 14,
   "metadata": {},
   "outputs": [
    {
     "name": "stdout",
     "output_type": "stream",
     "text": [
      "True\n"
     ]
    }
   ],
   "source": [
    "print(number1 != number2 or number1 < number2)"
   ]
  },
  {
   "cell_type": "code",
   "execution_count": 15,
   "metadata": {},
   "outputs": [
    {
     "name": "stdout",
     "output_type": "stream",
     "text": [
      "False\n"
     ]
    }
   ],
   "source": [
    "print(not number1)"
   ]
  },
  {
   "cell_type": "markdown",
   "metadata": {},
   "source": [
    "# MEMBERSHIP OPERATOR\n",
    "in, not in"
   ]
  },
  {
   "cell_type": "code",
   "execution_count": 16,
   "metadata": {},
   "outputs": [
    {
     "name": "stdout",
     "output_type": "stream",
     "text": [
      "False\n"
     ]
    }
   ],
   "source": [
    "word = 'matchless love'\n",
    "print('M'in word)"
   ]
  },
  {
   "cell_type": "code",
   "execution_count": 18,
   "metadata": {},
   "outputs": [
    {
     "name": "stdout",
     "output_type": "stream",
     "text": [
      "True\n"
     ]
    }
   ],
   "source": [
    "word = 'matchless love'\n",
    "print('m' in word)"
   ]
  },
  {
   "cell_type": "code",
   "execution_count": 19,
   "metadata": {},
   "outputs": [
    {
     "name": "stdout",
     "output_type": "stream",
     "text": [
      "True\n"
     ]
    }
   ],
   "source": [
    "word = 'matchless love'\n",
    "print('k' not in word)"
   ]
  },
  {
   "cell_type": "code",
   "execution_count": 20,
   "metadata": {},
   "outputs": [
    {
     "name": "stdout",
     "output_type": "stream",
     "text": [
      "False\n"
     ]
    }
   ],
   "source": [
    "word = 'matchless love'\n",
    "print('m' not in word)"
   ]
  },
  {
   "cell_type": "markdown",
   "metadata": {},
   "source": [
    "# IDENTITY OPERATORS\n",
    "# is,is not"
   ]
  },
  {
   "cell_type": "code",
   "execution_count": 21,
   "metadata": {},
   "outputs": [
    {
     "name": "stdout",
     "output_type": "stream",
     "text": [
      "False\n",
      "True\n"
     ]
    }
   ],
   "source": [
    "print(number1 is number2)\n",
    "print(number1 is not number2)"
   ]
  },
  {
   "cell_type": "code",
   "execution_count": 6,
   "metadata": {},
   "outputs": [
    {
     "name": "stdout",
     "output_type": "stream",
     "text": [
      "ADEBAYO\n"
     ]
    }
   ],
   "source": [
    "add = 'Adebayo'\n",
    "print(str.upper(add))"
   ]
  },
  {
   "cell_type": "code",
   "execution_count": null,
   "metadata": {},
   "outputs": [],
   "source": []
  }
 ],
 "metadata": {
  "kernelspec": {
   "display_name": "Python 3 (ipykernel)",
   "language": "python",
   "name": "python3"
  },
  "language_info": {
   "codemirror_mode": {
    "name": "ipython",
    "version": 3
   },
   "file_extension": ".py",
   "mimetype": "text/x-python",
   "name": "python",
   "nbconvert_exporter": "python",
   "pygments_lexer": "ipython3",
   "version": "3.9.12"
  }
 },
 "nbformat": 4,
 "nbformat_minor": 2
}

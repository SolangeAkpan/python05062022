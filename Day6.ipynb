{
 "cells": [
  {
   "cell_type": "markdown",
   "metadata": {},
   "source": [
    "# Function"
   ]
  },
  {
   "cell_type": "code",
   "execution_count": 2,
   "metadata": {},
   "outputs": [
    {
     "name": "stdout",
     "output_type": "stream",
     "text": [
      "Welcome to Python class\n",
      "None\n"
     ]
    }
   ],
   "source": [
    "def greet(): # function without a parameter or argument\n",
    "    print('Welcome to Python class')\n",
    "print(greet())\n"
   ]
  },
  {
   "cell_type": "code",
   "execution_count": 8,
   "metadata": {},
   "outputs": [
    {
     "name": "stdout",
     "output_type": "stream",
     "text": [
      "Welcome to Python class David\n",
      "None\n"
     ]
    }
   ],
   "source": [
    "def greet2(name): # function with a single parameter or argument\n",
    "    print(f'Welcome to Python class {name}')\n",
    "print(greet2(\"David\"))"
   ]
  },
  {
   "cell_type": "code",
   "execution_count": 9,
   "metadata": {},
   "outputs": [
    {
     "name": "stdout",
     "output_type": "stream",
     "text": [
      "Welcome to Python class John\n"
     ]
    }
   ],
   "source": [
    "greet2('John')"
   ]
  },
  {
   "cell_type": "code",
   "execution_count": 15,
   "metadata": {},
   "outputs": [
    {
     "name": "stdout",
     "output_type": "stream",
     "text": [
      " CANDIDATE DETAILS\n",
      "Name:David Ikechukwu\n",
      "Gender:Male\n",
      "Age:9\n",
      "\n",
      "Opps!! Sorry you are below the required age, you are not eligible to vote\n"
     ]
    }
   ],
   "source": [
    "def person(name,gender,age):\n",
    "    print(f''' CANDIDATE DETAILS\n",
    "Name:{name}\n",
    "Gender:{gender}\n",
    "Age:{age}\n",
    "''')\n",
    "    if age >= 18:\n",
    "        print('Congratulations you are eligible to vote')\n",
    "    else:\n",
    "        print('Opps!! Sorry you are below the required age, you are not eligible to vote')\n",
    "person(\"David Ikechukwu\",\"Male\",9)"
   ]
  },
  {
   "cell_type": "code",
   "execution_count": 23,
   "metadata": {},
   "outputs": [
    {
     "name": "stdout",
     "output_type": "stream",
     "text": [
      " CANDIDATE DETAILS\n",
      "Name:David Ikechukwu\n",
      "Gender:Male\n",
      "Age:18\n",
      "\n",
      "Congratulations you are eligible to vote\n"
     ]
    }
   ],
   "source": [
    "def vote(name,gender,age = 18): # adding a value to the parameter age\n",
    "    print(f''' CANDIDATE DETAILS\n",
    "Name:{name}\n",
    "Gender:{gender}\n",
    "Age:{age}\n",
    "''')\n",
    "    if age >= 18:\n",
    "        print('Congratulations you are eligible to vote')\n",
    "    else:\n",
    "        print('Opps!! Sorry you are below the required age, you are not eligible to vote')\n",
    "vote(\"David Ikechukwu\",\"Male\")"
   ]
  },
  {
   "cell_type": "code",
   "execution_count": 27,
   "metadata": {},
   "outputs": [
    {
     "name": "stdout",
     "output_type": "stream",
     "text": [
      "Math Score:100\n",
      "English Score:100\n",
      "Chemistry Score:100\n",
      "Biology Score:100\n",
      "Physics Score:100\n",
      "your average score in 5 subject is 100.0 your grade is A\n"
     ]
    }
   ],
   "source": [
    "def gradingsystem():\n",
    "    score1 = int(input('Math Score:'))\n",
    "    score2 = int(input('English Score:'))\n",
    "    score3 = int(input('Chemistry Score:'))\n",
    "    score4 = int(input('Biology Score:'))\n",
    "    score5 = int(input('Physics Score:'))\n",
    "\n",
    "    avgscore = (score1 + score2 + score3 + score4 + score5)/5\n",
    "\n",
    "    if avgscore >= 70 and avgscore <= 100:\n",
    "        print(f'your average score in 5 subject is {avgscore} your grade is A')\n",
    "    elif avgscore >= 60 and avgscore <= 69.99:\n",
    "        print(f'your average score in 5 subject is {avgscore} your grade is B')\n",
    "    elif avgscore >= 55 and avgscore <= 59.99:\n",
    "        print(f'your average score in 5 subject is {avgscore} your grade is C') \n",
    "    elif avgscore >= 50 and avgscore <= 54.99:\n",
    "        print(f'your average score in 5 subject is {avgscore} your grade is D') \n",
    "    elif avgscore >= 40 and avgscore <= 49.99:\n",
    "        print(f'your average score in 5 subject is {avgscore} your grade is E')\n",
    "    else:\n",
    "        print(f'your average score in 5 subject is {avgscore} your grade is F')\n",
    "gradingsystem()"
   ]
  },
  {
   "cell_type": "markdown",
   "metadata": {},
   "source": [
    "# write a function to find the max of three numbers\n"
   ]
  },
  {
   "cell_type": "code",
   "execution_count": 33,
   "metadata": {},
   "outputs": [
    {
     "name": "stdout",
     "output_type": "stream",
     "text": [
      "Please enter your number100\n",
      "Please enter your number100\n",
      "Please enter your number100\n",
      "Opps!!!!\n"
     ]
    }
   ],
   "source": [
    "def max_num():\n",
    "    num1 = int(input('Please enter your number'))\n",
    "    num2 = int(input('Please enter your number'))\n",
    "    num3 = int(input('Please enter your number'))\n",
    "    \n",
    "    if num1 > num2 and num1 > num3:\n",
    "        print('num1 is the greatest')\n",
    "    elif num2 > num1 and num2 > num3:\n",
    "        print('num2 is the greatest')\n",
    "    elif num3 > num1 and num3 > num2:\n",
    "        print('num3 is the greatest')\n",
    "    else:\n",
    "        print('Opps!!!!')\n",
    "max_num()"
   ]
  },
  {
   "cell_type": "markdown",
   "metadata": {},
   "source": [
    "# Write a function to find if a given year is a leap year"
   ]
  },
  {
   "cell_type": "code",
   "execution_count": 45,
   "metadata": {},
   "outputs": [
    {
     "name": "stdout",
     "output_type": "stream",
     "text": [
      "Please enter your year:2016\n",
      "2016 is a leap year\n"
     ]
    }
   ],
   "source": [
    "def leapyear():\n",
    "    year = int(input('Please enter your year:'))\n",
    "    if (year % 400 == 0) and (year % 100 == 0):\n",
    "        print(f'{year} It\\'s a leap year')\n",
    "    elif (year % 4 == 0) and (year % 100 != 0):\n",
    "        print(f'{year} is a leap year')\n",
    "    else:\n",
    "        print(f'{year} It\\'s not a leap year')\n",
    "leapyear()"
   ]
  },
  {
   "cell_type": "markdown",
   "metadata": {},
   "source": [
    "# keyword and non-keyword argument functions"
   ]
  },
  {
   "cell_type": "code",
   "execution_count": 47,
   "metadata": {},
   "outputs": [
    {
     "name": "stdout",
     "output_type": "stream",
     "text": [
      "<class 'tuple'>\n",
      "70.22222222222223\n"
     ]
    }
   ],
   "source": [
    "import statistics as st # single asteris means non-keyword\n",
    "def average(*args):\n",
    "    print(type(args))\n",
    "    print(st.mean(args))\n",
    "average(85,67,84,84,92,5,94,93,28)"
   ]
  },
  {
   "cell_type": "code",
   "execution_count": 53,
   "metadata": {},
   "outputs": [
    {
     "name": "stdout",
     "output_type": "stream",
     "text": [
      "<class 'dict'>\n",
      "Name : David\n",
      "Gender : Male\n",
      "Age : 29\n"
     ]
    }
   ],
   "source": [
    "def details(**champion):\n",
    "    print(type(champion))\n",
    "    for key,value in champion.items():\n",
    "        print(key, ':', value)\n",
    "details(Name='David', Gender='Male', Age=29)"
   ]
  },
  {
   "cell_type": "code",
   "execution_count": null,
   "metadata": {},
   "outputs": [],
   "source": []
  }
 ],
 "metadata": {
  "kernelspec": {
   "display_name": "Python 3 (ipykernel)",
   "language": "python",
   "name": "python3"
  },
  "language_info": {
   "codemirror_mode": {
    "name": "ipython",
    "version": 3
   },
   "file_extension": ".py",
   "mimetype": "text/x-python",
   "name": "python",
   "nbconvert_exporter": "python",
   "pygments_lexer": "ipython3",
   "version": "3.9.12"
  }
 },
 "nbformat": 4,
 "nbformat_minor": 4
}

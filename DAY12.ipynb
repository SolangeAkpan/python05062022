{
 "cells": [
  {
   "cell_type": "code",
   "execution_count": 2,
   "id": "97faab68",
   "metadata": {},
   "outputs": [],
   "source": [
    "import pymysql"
   ]
  },
  {
   "cell_type": "code",
   "execution_count": 3,
   "id": "99cf5602",
   "metadata": {},
   "outputs": [
    {
     "name": "stdout",
     "output_type": "stream",
     "text": [
      "('information_schema',)\n",
      "('mysql',)\n",
      "('performance_schema',)\n",
      "('sakila',)\n",
      "('schoolmanagementsystem',)\n",
      "('sys',)\n",
      "('techbros',)\n",
      "('world',)\n"
     ]
    }
   ],
   "source": [
    "mydb  =pymysql.connect(\n",
    "      host = 'localhost',\n",
    "      user = 'root',\n",
    "     password = '1234'\n",
    ") \n",
    "mycursor =mydb.cursor()\n",
    "mycursor.execute('SHOW DATABASES')\n",
    "for x in mycursor:\n",
    "    print(x)"
   ]
  },
  {
   "cell_type": "code",
   "execution_count": 7,
   "id": "427cac3a",
   "metadata": {},
   "outputs": [
    {
     "name": "stdout",
     "output_type": "stream",
     "text": [
      "('studentsperformance',)\n"
     ]
    }
   ],
   "source": [
    "   mydb  =pymysql.connect(\n",
    "      host = 'localhost',\n",
    "      user = 'root',\n",
    "     password = '1234',\n",
    "    database ='schoolmanagementsystem'\n",
    ") \n",
    "mycursor =mydb.cursor()\n",
    "mycursor.execute('SHOW TABLES')\n",
    "for x in mycursor:\n",
    "    print(x)"
   ]
  },
  {
   "cell_type": "code",
   "execution_count": 10,
   "id": "5bc6da00",
   "metadata": {},
   "outputs": [],
   "source": [
    "mydb  =pymysql.connect(\n",
    "      host = 'localhost',\n",
    "      user = 'root',\n",
    "     password = '1234',\n",
    "    database ='schoolmanagementsystem'\n",
    ") \n",
    "mycursor =mydb.cursor()\n",
    "mycursor.execute('CREATE TABLE GROUP_A_DATA SELECT * FROM studentsperformance WHERE raceethnicity = \"group A\"')\n",
    "mydb.commit()"
   ]
  },
  {
   "cell_type": "code",
   "execution_count": 12,
   "id": "bc060982",
   "metadata": {},
   "outputs": [
    {
     "name": "stdout",
     "output_type": "stream",
     "text": [
      "(1000,)\n"
     ]
    }
   ],
   "source": [
    "mydb  =pymysql.connect(\n",
    "      host = 'localhost',\n",
    "      user = 'root',\n",
    "     password = '1234',\n",
    "    database ='schoolmanagementsystem'\n",
    ") \n",
    "mycursor =mydb.cursor()\n",
    "mycursor.execute('SELECT COUNT(gender) FROM studentsperformance')\n",
    "for x in mycursor:\n",
    "    print(x)"
   ]
  },
  {
   "cell_type": "code",
   "execution_count": 15,
   "id": "741c8a7f",
   "metadata": {},
   "outputs": [
    {
     "name": "stdout",
     "output_type": "stream",
     "text": [
      "(150,)\n"
     ]
    }
   ],
   "source": [
    "mydb  =pymysql.connect(\n",
    "      host = 'localhost',\n",
    "      user = 'root',\n",
    "     password = '1234',\n",
    "    database ='schoolmanagementsystem'\n",
    ") \n",
    "mycursor =mydb.cursor()\n",
    "mycursor.execute('SELECT COUNT(*) FROM studentsperformance WHERE mathscore <= 50')\n",
    "for x in mycursor:\n",
    "    print(x)"
   ]
  },
  {
   "cell_type": "code",
   "execution_count": 16,
   "id": "81e1d995",
   "metadata": {},
   "outputs": [
    {
     "name": "stdout",
     "output_type": "stream",
     "text": [
      "(81,)\n"
     ]
    }
   ],
   "source": [
    "mydb =pymysql.connect(\n",
    "      host = 'localhost',\n",
    "      user = 'root',\n",
    "     password = '1234',\n",
    "    database ='schoolmanagementsystem'\n",
    ") \n",
    "mycursor =mydb.cursor()\n",
    "mycursor.execute('SELECT COUNT(DISTINCT mathscore) FROM studentsperformance')\n",
    "for x in mycursor:\n",
    "    print(x)"
   ]
  },
  {
   "cell_type": "code",
   "execution_count": 17,
   "id": "d33dee9d",
   "metadata": {},
   "outputs": [
    {
     "name": "stdout",
     "output_type": "stream",
     "text": [
      "(Decimal('5485'),)\n"
     ]
    }
   ],
   "source": [
    "mydb =pymysql.connect(\n",
    "      host = 'localhost',\n",
    "      user = 'root',\n",
    "     password = '1234',\n",
    "    database ='schoolmanagementsystem'\n",
    ") \n",
    "mycursor =mydb.cursor()\n",
    "mycursor.execute('SELECT SUM(mathscore)AS TOTAL_MATHSCORE_GROUP_A FROM studentsperformance WHERE raceethnicity=\"group A\"')\n",
    "for x in mycursor:\n",
    "    print(x)"
   ]
  },
  {
   "cell_type": "code",
   "execution_count": 18,
   "id": "bcdc6200",
   "metadata": {},
   "outputs": [
    {
     "name": "stdout",
     "output_type": "stream",
     "text": [
      "(100,)\n"
     ]
    }
   ],
   "source": [
    "mydb =pymysql.connect(\n",
    "      host = 'localhost',\n",
    "      user = 'root',\n",
    "     password = '1234',\n",
    "    database ='schoolmanagementsystem'\n",
    ") \n",
    "mycursor =mydb.cursor()\n",
    "mycursor.execute('SELECT MAX(mathscore)AS TOTAL_MATHSCORE_GROUP_A FROM studentsperformance WHERE raceethnicity=\"group A\"')\n",
    "for x in mycursor:\n",
    "    print(x)"
   ]
  },
  {
   "cell_type": "code",
   "execution_count": 19,
   "id": "98fb43eb",
   "metadata": {},
   "outputs": [
    {
     "name": "stdout",
     "output_type": "stream",
     "text": [
      "(Decimal('61.6292'),)\n"
     ]
    }
   ],
   "source": [
    "mydb =pymysql.connect(\n",
    "      host = 'localhost',\n",
    "      user = 'root',\n",
    "     password = '1234',\n",
    "    database ='schoolmanagementsystem'\n",
    ") \n",
    "mycursor =mydb.cursor()\n",
    "mycursor.execute('SELECT AVG(mathscore)AS TOTAL_MATHSCORE_GROUP_A FROM studentsperformance WHERE raceethnicity=\"group A\"')\n",
    "for x in mycursor:\n",
    "    print(x)"
   ]
  },
  {
   "cell_type": "code",
   "execution_count": 20,
   "id": "0cc12aee",
   "metadata": {},
   "outputs": [
    {
     "name": "stdout",
     "output_type": "stream",
     "text": [
      "(28,)\n"
     ]
    }
   ],
   "source": [
    "mydb =pymysql.connect(\n",
    "      host = 'localhost',\n",
    "      user = 'root',\n",
    "     password = '1234',\n",
    "    database ='schoolmanagementsystem'\n",
    ") \n",
    "mycursor =mydb.cursor()\n",
    "mycursor.execute('SELECT MIN(mathscore)AS TOTAL_MATHSCORE_GROUP_A FROM studentsperformance WHERE raceethnicity=\"group A\"')\n",
    "for x in mycursor:\n",
    "    print(x)"
   ]
  },
  {
   "cell_type": "code",
   "execution_count": 27,
   "id": "3950d83e",
   "metadata": {},
   "outputs": [
    {
     "name": "stdout",
     "output_type": "stream",
     "text": [
      "(1, 'Ikechukwu David', 29, 'Male', 'Expert')\n",
      "(2, 'John smith', 30, 'Male', 'Junior')\n",
      "(3, 'Uduak Grace', 30, 'Female', 'Intermediate')\n",
      "(4, 'Tech Bro', 31, 'Male', 'Expert')\n",
      "(5, 'Love', 35, 'Female', 'Intermediate')\n",
      "(6, 'John Doe', 30, 'Male', 'Intermediate')\n",
      "(7, 'Grace Jill', 28, 'Female', 'Junior')\n",
      "(8, 'Frazer York', 26, 'Male', 'Junior')\n",
      "(9, 'Emma Stone', 45, 'Female', 'Expert')\n",
      "(10, 'Jeniffer Garner', 38, 'Female', 'Expert')\n",
      "(11, 'Miguel Gomez', 43, 'Male', 'Expert')\n",
      "(12, 'Sutter Hunk', 31, 'Male', 'Intermediate')\n",
      "(13, 'Grace Jill', 28, 'Female', 'Junior')\n",
      "(14, 'Frazer York', 26, 'Male', 'Junior')\n",
      "(15, 'Emma Stone', 45, 'Female', 'Expert')\n",
      "(16, 'Jeniffer Garner', 38, 'Female', 'Expert')\n",
      "(17, 'Miguel Gomez', 43, 'Male', 'Expert')\n",
      "(18, 'John Doe', 30, 'Male', 'Intermediate')\n",
      "(19, 'Grace Jill', 28, 'Female', 'Junior')\n",
      "(20, 'Frazer York', 26, 'Male', 'Junior')\n"
     ]
    }
   ],
   "source": [
    "mydb =pymysql.connect(\n",
    "      host = 'localhost',\n",
    "      user = 'root',\n",
    "     password = '1234',\n",
    "    database ='techbros'\n",
    ") \n",
    "mycursor =mydb.cursor()\n",
    "mycursor.execute('SELECT ID,Sname,age,gender,GROUP_CONCAT(Slevel)AS allLEVEL FROM PWDS GROUP BY ID')\n",
    "for x in mycursor:\n",
    "    print(x)"
   ]
  },
  {
   "cell_type": "code",
   "execution_count": 30,
   "id": "35424232",
   "metadata": {},
   "outputs": [
    {
     "name": "stdout",
     "output_type": "stream",
     "text": [
      "('Ikechukwu David',)\n",
      "('John smith',)\n"
     ]
    }
   ],
   "source": [
    "mydb =pymysql.connect(\n",
    "      host = 'localhost',\n",
    "      user = 'root',\n",
    "     password = '1234',\n",
    "    database ='techbros'\n",
    ") \n",
    "mycursor =mydb.cursor()\n",
    "mycursor.execute('SELECT Sname FROM PWDS LIMIT 2')\n",
    "for x in mycursor:\n",
    "    print(x)"
   ]
  },
  {
   "cell_type": "code",
   "execution_count": 33,
   "id": "9435aa42",
   "metadata": {},
   "outputs": [
    {
     "name": "stdout",
     "output_type": "stream",
     "text": [
      "('Ikechukwu David',)\n"
     ]
    }
   ],
   "source": [
    "mydb =pymysql.connect(\n",
    "      host = 'localhost',\n",
    "      user = 'root',\n",
    "     password = '1234',\n",
    "    database ='techbros'\n",
    ") \n",
    "mycursor =mydb.cursor()\n",
    "mycursor.execute('SELECT Sname FROM PWDS ORDER BY ID LIMIT 1')\n",
    "for x in mycursor:\n",
    "    print(x)"
   ]
  },
  {
   "cell_type": "code",
   "execution_count": null,
   "id": "9fc70c04",
   "metadata": {},
   "outputs": [],
   "source": []
  }
 ],
 "metadata": {
  "kernelspec": {
   "display_name": "Python 3 (ipykernel)",
   "language": "python",
   "name": "python3"
  },
  "language_info": {
   "codemirror_mode": {
    "name": "ipython",
    "version": 3
   },
   "file_extension": ".py",
   "mimetype": "text/x-python",
   "name": "python",
   "nbconvert_exporter": "python",
   "pygments_lexer": "ipython3",
   "version": "3.9.12"
  }
 },
 "nbformat": 4,
 "nbformat_minor": 5
}

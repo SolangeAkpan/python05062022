{
 "cells": [
  {
   "cell_type": "code",
   "execution_count": 1,
   "id": "61405645",
   "metadata": {},
   "outputs": [
    {
     "name": "stdout",
     "output_type": "stream",
     "text": [
      "===============Welcome to Uduak mortgage loan bank============\n",
      "(a). Open New Client Account.\n",
      "(b).Deposit Amount.\n",
      "(c).Request for a Loan.\n",
      "(d).Exit\n",
      "a\n",
      "==============Opening New client account===========\n",
      "Write Your Fullname :  afre\n",
      "Please create a password : adert\n",
      "Please deposit to start your account :  123450\n",
      "your name has been added to the client table\n",
      "your pin has been added to the client table\n",
      "your balance has been added to the client table\n",
      "New client account created successfully\n",
      "['afre']\n",
      "Note! Please remember your Name and pin\n",
      "=======================================\n"
     ]
    }
   ],
   "source": [
    "# MORTGAGE LOAN BANK system\n",
    "\n",
    "client = []\n",
    "clientpin = []\n",
    "clientbalances =[]\n",
    "\n",
    "\n",
    "print(\"===============Welcome to Uduak mortgage loan bank============\")\n",
    "choice = input('''(a). Open New Client Account.\n",
    "(b).Deposit Amount.\n",
    "(c).Request for a Loan.\n",
    "(d).Exit\n",
    "''')\n",
    "\n",
    "if choice == 'a':\n",
    "    print('==============Opening New client account===========')\n",
    "    name = input(\"Write Your Fullname :  \")\n",
    "    client.append(name)\n",
    "    password = input('Please create a password : ')\n",
    "    clientpin.append(password)\n",
    "    clientbalance = 0\n",
    "    clientdeposit = eval(input(\"Please deposit to start your account :  \"))\n",
    "    clientbalance = clientbalance + clientdeposit\n",
    "    clientbalances.append(clientbalance)\n",
    "    print('your name has been added to the client table')\n",
    "    print('your pin has been added to the client table')\n",
    "    print('your balance has been added to the client table')\n",
    "    print('New client account created successfully')\n",
    "    print(client)\n",
    "    print(\"Note! Please remember your Name and pin\")\n",
    "    print(\"=======================================\")\n",
    "    \n",
    "    \n",
    "elif choice == 'b':\n",
    "    print(\"============Deposit Amount===========\")\n",
    "    print(client)\n",
    "    name = input('please insert a name :  ')\n",
    "    password = input('please insert a password :  ')\n",
    "    \n",
    "    if name == client[0] and password == clientpin[0]:\n",
    "        print(f'Your current balance is : {clientbalances[0]} ')\n",
    "        Deposit = eval(input(\"Enter the amount you would like to deposit : \"))\n",
    "        clientbalance = clientbalance + deposit\n",
    "        clientbalances[0] = clientbalance\n",
    "        print(\"-------Deposit Successful------\")\n",
    "    else:\n",
    "        print(\"Your name and pin does't match\")\n",
    "    \n"
   ]
  },
  {
   "cell_type": "code",
   "execution_count": null,
   "id": "3707795d",
   "metadata": {},
   "outputs": [],
   "source": []
  },
  {
   "cell_type": "code",
   "execution_count": null,
   "id": "64feb8a6",
   "metadata": {},
   "outputs": [],
   "source": []
  },
  {
   "cell_type": "code",
   "execution_count": null,
   "id": "ffc71b24",
   "metadata": {},
   "outputs": [],
   "source": []
  }
 ],
 "metadata": {
  "kernelspec": {
   "display_name": "Python 3 (ipykernel)",
   "language": "python",
   "name": "python3"
  },
  "language_info": {
   "codemirror_mode": {
    "name": "ipython",
    "version": 3
   },
   "file_extension": ".py",
   "mimetype": "text/x-python",
   "name": "python",
   "nbconvert_exporter": "python",
   "pygments_lexer": "ipython3",
   "version": "3.9.12"
  }
 },
 "nbformat": 4,
 "nbformat_minor": 5
}
